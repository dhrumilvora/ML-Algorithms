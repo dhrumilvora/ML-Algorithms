


import pandas as pd
import matplotlib.pyplot as plt
import plotly.express as px
import seaborn as sns
import numpy as np





df = pd.read_csv('./dataset/breast-cancer.csv')


df.head()


df.describe()





diagnosis_counts = df['diagnosis'].value_counts()


plt.pie(diagnosis_counts,colors=['#007500','#5CFF5C'],labels=['Benign','Malignant'])


for column in  df.drop('diagnosis',axis=1).columns[:5]:
    fig = px.box(data_frame=df,x='diagnosis',color='diagnosis',y=column,color_discrete_sequence=['#007500','#5CFF5C'],orientation='v')
    fig.show() 


for column in  df.drop('diagnosis',axis=1).columns[5:10]:
    fig = px.scatter(data_frame=df,color='diagnosis',x=column,color_discrete_sequence=['#007500','#5CFF5C'],)
    fig.show()     





df['diagnosis'] = (df['diagnosis'] == 'M').astype(int) #encode the label into 1/0
corr = df.corr()
plt.figure(figsize=(20,20))
sns.heatmap(corr, cmap='viridis_r',annot=True)
plt.show()


relevant_features = corr['diagnosis'][abs(corr['diagnosis'])>0.25]
relevant_columns = relevant_features.index.to_list()
relevant_columns.remove('diagnosis')
relevant_columns





X = df[relevant_columns].values
y = df['diagnosis'].values.reshape(-1,1)


def scale(X):
    mean = np.mean(X,axis=0)
    std = np.std(X,axis=0)
    X = (X - mean)/std
    return X


X = scale(X)





class DecisionTree():
    



